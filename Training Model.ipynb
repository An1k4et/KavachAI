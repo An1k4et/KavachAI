{
 "cells": [
  {
   "cell_type": "code",
   "execution_count": 86,
   "id": "f6f7b2be",
   "metadata": {},
   "outputs": [],
   "source": [
    "import pandas as pd\n",
    "import numpy as np\n",
    "\n",
    "df = pd.read_csv(\"New Dataset.csv\")"
   ]
  },
  {
   "cell_type": "code",
   "execution_count": 87,
   "id": "51598232",
   "metadata": {},
   "outputs": [],
   "source": [
    "df['Result']=df['Result'].replace(-1,0)"
   ]
  },
  {
   "cell_type": "code",
   "execution_count": 88,
   "id": "fe2361c2",
   "metadata": {},
   "outputs": [],
   "source": [
    "from sklearn.neighbors import KNeighborsClassifier\n",
    "from sklearn.model_selection import train_test_split,cross_val_score\n",
    "\n",
    "X= df.drop(columns=['index','Result'])\n",
    "Y=df['Result']\n",
    "\n",
    "train_X,test_X,train_Y,test_Y=train_test_split(X,Y,test_size=0.3,random_state=2)"
   ]
  },
  {
   "cell_type": "code",
   "execution_count": 89,
   "id": "8ddb51fb",
   "metadata": {},
   "outputs": [
    {
     "data": {
      "text/plain": [
       "0.9454326198372023"
      ]
     },
     "execution_count": 89,
     "metadata": {},
     "output_type": "execute_result"
    }
   ],
   "source": [
    "from sklearn.ensemble import RandomForestClassifier\n",
    "from sklearn.metrics import accuracy_score\n",
    "\n",
    "forest_clf = RandomForestClassifier(max_depth=10, random_state=0)\n",
    "forest_clf.fit(train_X,train_Y)\n",
    "ran_pred=forest_clf.predict(test_X)\n",
    "accuracy_score(ran_pred,test_Y)"
   ]
  },
  {
   "cell_type": "code",
   "execution_count": 90,
   "id": "eeb156a6",
   "metadata": {},
   "outputs": [
    {
     "data": {
      "text/plain": [
       "['random_forest_model.pkl']"
      ]
     },
     "execution_count": 90,
     "metadata": {},
     "output_type": "execute_result"
    }
   ],
   "source": [
    "import joblib\n",
    "\n",
    "# Train the model (already done in your code)\n",
    "forest_clf.fit(train_X, train_Y)\n",
    "\n",
    "# Save the model to a file\n",
    "joblib.dump(forest_clf, 'random_forest_model.pkl')\n"
   ]
  },
  {
   "cell_type": "code",
   "execution_count": 77,
   "id": "a03d9b7d",
   "metadata": {},
   "outputs": [],
   "source": [
    "df_test = pd.read_csv('New Dataset.csv')  # Example of loading new data\n",
    "X_test = df_test.drop(columns='Result') "
   ]
  },
  {
   "cell_type": "code",
   "execution_count": 80,
   "id": "bacc2ca4",
   "metadata": {},
   "outputs": [
    {
     "data": {
      "text/plain": [
       "array([[    1,    -1,     1, ...,    -1,     1,    -1],\n",
       "       [    2,     1,     1, ...,    -1,     1,     1],\n",
       "       [    3,     1,     0, ...,    -1,     1,    -1],\n",
       "       ...,\n",
       "       [11053,     1,    -1, ...,     1,     1,     1],\n",
       "       [11054,    -1,    -1, ...,     1,     1,     1],\n",
       "       [11055,    -1,    -1, ...,     1,    -1,    -1]], dtype=int64)"
      ]
     },
     "execution_count": 80,
     "metadata": {},
     "output_type": "execute_result"
    }
   ],
   "source": [
    "X_test.values"
   ]
  },
  {
   "cell_type": "code",
   "execution_count": 85,
   "id": "3338823e",
   "metadata": {},
   "outputs": [
    {
     "data": {
      "text/plain": [
       "[2, [...]]"
      ]
     },
     "execution_count": 85,
     "metadata": {},
     "output_type": "execute_result"
    }
   ],
   "source": [
    "data = []\n",
    "data.append(2)\n",
    "data.append(data)\n",
    "data"
   ]
  },
  {
   "cell_type": "code",
   "execution_count": null,
   "id": "7d72383a",
   "metadata": {},
   "outputs": [],
   "source": []
  }
 ],
 "metadata": {
  "kernelspec": {
   "display_name": "Python 3",
   "language": "python",
   "name": "python3"
  },
  "language_info": {
   "codemirror_mode": {
    "name": "ipython",
    "version": 3
   },
   "file_extension": ".py",
   "mimetype": "text/x-python",
   "name": "python",
   "nbconvert_exporter": "python",
   "pygments_lexer": "ipython3",
   "version": "3.6.3"
  }
 },
 "nbformat": 4,
 "nbformat_minor": 5
}
